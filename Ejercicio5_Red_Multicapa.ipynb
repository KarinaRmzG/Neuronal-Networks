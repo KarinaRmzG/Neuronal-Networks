{
  "cells": [
    {
      "cell_type": "markdown",
      "metadata": {
        "id": "view-in-github",
        "colab_type": "text"
      },
      "source": [
        "<a href=\"https://colab.research.google.com/github/KarinaRmzG/Neuronal-Networks/blob/main/Ejercicio5_Red_Multicapa.ipynb\" target=\"_parent\"><img src=\"https://colab.research.google.com/assets/colab-badge.svg\" alt=\"Open In Colab\"/></a>"
      ]
    },
    {
      "cell_type": "markdown",
      "metadata": {
        "id": "Bv4oRgXZIqYq"
      },
      "source": [
        "# Red Neuronal Multicapa\n",
        "\n",
        "Una red neuronal multicapa tiene capas ocultas entre la entrada y la salida. A este tipo de red también se le conoce como perceptrón multicapa (MLP por sus siglas en inglés de multilayer perceptron)\n",
        "\n",
        "En este ejercicio crearemos una red neuronal multicapa usando numpy.\n",
        "\n"
      ]
    },
    {
      "cell_type": "code",
      "execution_count": 14,
      "metadata": {
        "id": "q59-AJIuIqYu"
      },
      "outputs": [],
      "source": [
        "# Importamos paquetes\n",
        "import numpy as np\n",
        "\n",
        "# Establecemos una semilla para la generación de números aleatorios\n",
        "np.random.seed(42)"
      ]
    },
    {
      "cell_type": "code",
      "execution_count": 15,
      "metadata": {
        "id": "GQpFQAQPIqYv"
      },
      "outputs": [],
      "source": [
        "# Funciones necesarias\n",
        "def sigmoid(x):\n",
        "    \"\"\"\n",
        "    Función sigmoide\n",
        "    \"\"\"\n",
        "    return 1/(1+np.exp(-x))"
      ]
    },
    {
      "cell_type": "markdown",
      "source": [
        "## Definamos la arquitectura de la red\n"
      ],
      "metadata": {
        "id": "bJPiUgJzKMsc"
      }
    },
    {
      "cell_type": "code",
      "execution_count": 16,
      "metadata": {
        "id": "G_JuQoqlIqYw"
      },
      "outputs": [],
      "source": [
        "# Definir el tamaño de las capas de la red neuronal\n",
        "N_input = 4    # Número de neuronas en la capa de entrada\n",
        "N_hidden = 3   # Número de neuronas en la capa oculta\n",
        "N_out = 2      # Número de neuronas en la capa de salida"
      ]
    },
    {
      "cell_type": "markdown",
      "metadata": {
        "id": "tI3BPW56IqYx"
      },
      "source": [
        "## Definir los pesos\n",
        "\n",
        "Recordemos que los pesos ahora los representamos con matrices y utilizaremos el producton de la siguiente forma:\n",
        "\n",
        "$$\n",
        "h = XW\n",
        "$$\n",
        "\n",
        "tal que,\n",
        "\n",
        "\n",
        "$$W = \\begin{bmatrix}\n",
        "w_{1,1} & w_{1,2}\n",
        " \\\\\n",
        "w_{2,1} & w_{2,2}\n",
        " \\\\\n",
        "w_{3,1} & w_{3,2}\n",
        " \\\\\n",
        "\\end{bmatrix}$$\n",
        "\n",
        "donde los renglones se relacionan con las entradas y las columnas con los nodos intermedios. Y las entradas son\n",
        "\n",
        "$$ X = \\begin{bmatrix} x_1 & x_2 & x_3 \\end{bmatrix} $$\n",
        "\n",
        "Como herramienta usaremos la fucnión normal. Verifica la documentación oficial de la función.\n",
        "\n",
        "> numpy.random.normal(loc=0.0, scale=1.0, size=None)\n",
        "\n",
        "TODO: construye a contrinuación matrices con valores aleatorios para la matriz de pesos entre la entrada y la oculta y para la oculta y la salida."
      ]
    },
    {
      "cell_type": "code",
      "execution_count": 17,
      "metadata": {
        "id": "4DdymIlGIqYx"
      },
      "outputs": [],
      "source": [
        "# Especificación de la media y desviación estándar a usar en la generación de pesos\n",
        "mean = 0       # Media\n",
        "stdev = 0.1    # Desviación estándar\n",
        "\n",
        "# Creación de las matrices de forma dinámica a partir de los valores que se pone en los tamaños de la red\n",
        "W_input_to_hidden = np.random.normal(mean, stdev, (N_input, N_hidden))\n",
        "W_hidden_out = np.random.normal(mean, stdev, (N_hidden, N_out))\n",
        "\n",
        "# Generamos datos de entrada de prueba (4 valores aleatorios)\n",
        "X = np.random.randn(4)"
      ]
    },
    {
      "cell_type": "markdown",
      "metadata": {
        "id": "Y_q-zeHnIqYx"
      },
      "source": [
        "## Calcular la salida\n",
        "\n",
        "Recordemos de la lección que\n",
        "\n",
        "$$ h = X W $$\n",
        "\n",
        "$$ y = f(H) $$"
      ]
    },
    {
      "cell_type": "code",
      "execution_count": 18,
      "metadata": {
        "colab": {
          "base_uri": "https://localhost:8080/"
        },
        "id": "rcz7T7oGIqYy",
        "outputId": "91b47e79-b2a4-471a-8f30-8468e60539d3"
      },
      "outputs": [
        {
          "output_type": "stream",
          "name": "stdout",
          "text": [
            "Salida de la capa oculta:  [0.48975306 0.54204203 0.4790029 ]\n",
            "Salida de la red:  [0.46750523 0.47274472]\n"
          ]
        }
      ],
      "source": [
        "# Realizamos el producto punto entre los datos de entrada y la matriz de pesos de la capa de entrada a la oculta\n",
        "input_to_hidden = np.dot(X, W_input_to_hidden)\n",
        "\n",
        "# Aplicamos la función sigmoide a la salida de la capa oculta\n",
        "out_of_hidden = sigmoid(input_to_hidden)\n",
        "\n",
        "# Imprimimos la salida de la capa oculta\n",
        "print(\"Salida de la capa oculta: \", out_of_hidden)\n",
        "\n",
        "# Realizamos el producto punto entre la salida de la capa oculta y la matriz de pesos de la capa oculta a la de salida\n",
        "input_to_out = np.dot(out_of_hidden, W_hidden_out)\n",
        "\n",
        "# Aplicamos la función sigmoide a la salida de la red neuronal\n",
        "out_of_network = sigmoid(input_to_out)\n",
        "\n",
        "# Imprimimos la salida de la red neuronal\n",
        "print(\"Salida de la red: \", out_of_network)"
      ]
    },
    {
      "cell_type": "markdown",
      "metadata": {
        "id": "i4QFRbEMIqYz"
      },
      "source": [
        "#Conclusión\n",
        " Es importante destacar que este es solo un ejemplo básico y simplificado de una red neuronal. Es importante mencionar que esta red aún no se ha entrenado, por lo que las matrices de pesos se generan aleatoriamente y las salidas son resultado de datos de entrada aleatorios."
      ]
    }
  ],
  "metadata": {
    "kernelspec": {
      "display_name": "nni",
      "language": "python",
      "name": "python3"
    },
    "language_info": {
      "codemirror_mode": {
        "name": "ipython",
        "version": 3
      },
      "file_extension": ".py",
      "mimetype": "text/x-python",
      "name": "python",
      "nbconvert_exporter": "python",
      "pygments_lexer": "ipython3",
      "version": "3.10.9"
    },
    "vscode": {
      "interpreter": {
        "hash": "cbad788490f55b163920bee5e9d5e0cba00db5905dc94f4bdbe0011e55bf465f"
      }
    },
    "colab": {
      "provenance": [],
      "include_colab_link": true
    }
  },
  "nbformat": 4,
  "nbformat_minor": 0
}
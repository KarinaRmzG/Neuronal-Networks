{
  "nbformat": 4,
  "nbformat_minor": 0,
  "metadata": {
    "colab": {
      "provenance": [],
      "authorship_tag": "ABX9TyMQ/UsgzZ6rpIWKcE/saA3N",
      "include_colab_link": true
    },
    "kernelspec": {
      "name": "python3",
      "display_name": "Python 3"
    },
    "language_info": {
      "name": "python"
    }
  },
  "cells": [
    {
      "cell_type": "markdown",
      "metadata": {
        "id": "view-in-github",
        "colab_type": "text"
      },
      "source": [
        "<a href=\"https://colab.research.google.com/github/KarinaRmzG/Ejercicios-IA/blob/main/Ejercicio1_Perceptron_AND.ipynb\" target=\"_parent\"><img src=\"https://colab.research.google.com/assets/colab-badge.svg\" alt=\"Open In Colab\"/></a>"
      ]
    },
    {
      "cell_type": "markdown",
      "source": [
        "#Ejercicio 1: Perceptrón AND\n",
        "\n",
        "El perceptrón es un algoritmo que funge como un clasificador binario. Es decir una función que mapea una entrada y asigna una posible etiqueta.\n",
        "\n",
        "La fórmula del perceptrón simple con dos entradas es:\n",
        "\n",
        "$$f(x_1,x_2,\\dots,x_m) = \\begin{cases}\n",
        "0 & \\text{if } \\sum w_i \\cdot x_i + b < 0 \\\\\n",
        "1 & \\text{if } \\sum w_i \\cdot x_i + b \\geq 0\n",
        "\\end{cases}$$\n",
        "\n",
        "En este ejercicio se debe determinar por prueba y error los pesos y bias que conviertan al perceptron en una funcion AND."
      ],
      "metadata": {
        "id": "81ukpocmL8Av"
      }
    },
    {
      "cell_type": "code",
      "execution_count": 1,
      "metadata": {
        "id": "gDiT7ynFL6xF"
      },
      "outputs": [],
      "source": [
        "#importamos paquetes\n",
        "import pandas as pd"
      ]
    },
    {
      "cell_type": "code",
      "source": [
        "# TODO: Establecer weight1, weight2, y bias\n",
        "\n",
        "weight1 = 1\n",
        "weight2 = 1\n",
        "bias = -1.5"
      ],
      "metadata": {
        "id": "aMX_IFrCOtgH"
      },
      "execution_count": 2,
      "outputs": []
    },
    {
      "cell_type": "code",
      "source": [
        "# ESTO DEBE QUEDAR IGUAL\n",
        "# Inputs, outputs\n",
        "# Se definen las entradas de prueba y las salidas correctas para cada entrada\n",
        "test_inputs = [(0, 0), (0, 1), (1, 0), (1, 1)]\n",
        "correct_outputs = [False, False, False, True]\n",
        "outputs = []  # Lista para almacenar los resultados\n",
        "\n",
        "# Generar y revisar\n",
        "# Se realiza la evaluación del perceptrón para cada entrada de prueba\n",
        "for test_input, correct_output in zip(test_inputs, correct_outputs):\n",
        "    # Cálculo de la combinación lineal de entradas con pesos y sesgo\n",
        "    linear_combination = weight1 * test_input[0] + weight2 * test_input[1] + bias\n",
        "\n",
        "    # Aplicación de la función de activación (umbral) y conversión a entero (0 o 1)\n",
        "    output = int(linear_combination >= 0)\n",
        "\n",
        "    # Comprobación si la salida es correcta o no\n",
        "    is_correct_string = 'Yes' if output == correct_output else 'No'\n",
        "\n",
        "    # Almacenamiento de los resultados en la lista outputs\n",
        "    outputs.append([test_input[0], test_input[1], linear_combination, output, is_correct_string])\n",
        "\n",
        "# Escribir resultados\n",
        "# Contar el número de respuestas incorrectas\n",
        "num_wrong = len([output[4] for output in outputs if output[4] == 'No'])\n",
        "\n",
        "# Crear un DataFrame para mostrar los resultados de manera tabular\n",
        "import pandas as pd\n",
        "output_frame = pd.DataFrame(outputs, columns=['Input 1', '  Input 2', '  Linear Combination', '  Activation Output', '  Is Correct'])\n",
        "\n",
        "# Imprimir los resultados\n",
        "if not num_wrong:\n",
        "    print('¡Bien! Adivinaste todas las respuestas correctamente.\\n')\n",
        "else:\n",
        "    print('Obtuviste {} respuestas incorrectas. ¡Debes ajustar los pesos!\\n'.format(num_wrong))\n",
        "print(output_frame.to_string(index=False))\n"
      ],
      "metadata": {
        "colab": {
          "base_uri": "https://localhost:8080/"
        },
        "id": "Cf-W6RVEWBKx",
        "outputId": "8fcba267-98f3-4ddc-9946-011fe15da952"
      },
      "execution_count": 3,
      "outputs": [
        {
          "output_type": "stream",
          "name": "stdout",
          "text": [
            "¡Bien! Adivinaste todas las respuestas correctamente.\n",
            "\n",
            " Input 1    Input 2    Linear Combination    Activation Output   Is Correct\n",
            "       0          0                  -1.5                    0          Yes\n",
            "       0          1                  -0.5                    0          Yes\n",
            "       1          0                  -0.5                    0          Yes\n",
            "       1          1                   0.5                    1          Yes\n"
          ]
        }
      ]
    }
  ]
}
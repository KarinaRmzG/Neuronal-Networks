{
  "nbformat": 4,
  "nbformat_minor": 0,
  "metadata": {
    "colab": {
      "provenance": [],
      "authorship_tag": "ABX9TyMRPEMLyu8o9pJsIqcTuaMP",
      "include_colab_link": true
    },
    "kernelspec": {
      "name": "python3",
      "display_name": "Python 3"
    },
    "language_info": {
      "name": "python"
    }
  },
  "cells": [
    {
      "cell_type": "markdown",
      "metadata": {
        "id": "view-in-github",
        "colab_type": "text"
      },
      "source": [
        "<a href=\"https://colab.research.google.com/github/KarinaRmzG/Ejercicios-IA/blob/main/Ejercicio1_Perceptron_AND.ipynb\" target=\"_parent\"><img src=\"https://colab.research.google.com/assets/colab-badge.svg\" alt=\"Open In Colab\"/></a>"
      ]
    },
    {
      "cell_type": "markdown",
      "source": [
        "Ejercicio 1: Perceptrón AND\n",
        "\n",
        "El perceptrón es un algoritmo que funge como un clasificador binario. Es decir una función que mapea una entrada y asigna una posible etiqueta.\n",
        "\n",
        "La fórmula del perceptrón simple con dos entradas es:\n",
        "\n",
        "$$f(x_1,x_2,\\dots,x_m) = \\begin{cases}\n",
        "0 & \\text{if } \\sum w_i \\cdot x_i + b < 0 \\\\\n",
        "1 & \\text{if } \\sum w_i \\cdot x_i + b \\geq 0\n",
        "\\end{cases}$$\n",
        "\n",
        "En este ejercicio se debe determinar por prueba y error los pesos y bias que conviertan al perceptron en una funcion AND."
      ],
      "metadata": {
        "id": "81ukpocmL8Av"
      }
    },
    {
      "cell_type": "code",
      "execution_count": null,
      "metadata": {
        "id": "gDiT7ynFL6xF"
      },
      "outputs": [],
      "source": [
        "#importamos paquetes\n",
        "import pandas as pd"
      ]
    },
    {
      "cell_type": "code",
      "source": [
        "# TODO: Establecer weight1, weight2, y bias\n",
        "\n",
        "weight1 = 0\n",
        "weight2 = 0\n",
        "bias = 0"
      ],
      "metadata": {
        "id": "aMX_IFrCOtgH"
      },
      "execution_count": null,
      "outputs": []
    }
  ]
}
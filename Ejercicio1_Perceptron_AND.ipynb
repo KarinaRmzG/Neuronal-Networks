{
  "nbformat": 4,
  "nbformat_minor": 0,
  "metadata": {
    "colab": {
      "provenance": [],
      "authorship_tag": "ABX9TyOoTYiWnKxLkHAUN1paz7iu",
      "include_colab_link": true
    },
    "kernelspec": {
      "name": "python3",
      "display_name": "Python 3"
    },
    "language_info": {
      "name": "python"
    }
  },
  "cells": [
    {
      "cell_type": "markdown",
      "metadata": {
        "id": "view-in-github",
        "colab_type": "text"
      },
      "source": [
        "<a href=\"https://colab.research.google.com/github/KarinaRmzG/Ejercicios-IA/blob/main/Ejercicio1_Perceptron_AND.ipynb\" target=\"_parent\"><img src=\"https://colab.research.google.com/assets/colab-badge.svg\" alt=\"Open In Colab\"/></a>"
      ]
    },
    {
      "cell_type": "markdown",
      "source": [
        "Ejercicio 1: Perceptrón AND\n",
        "\n",
        "El perceptrón es un algoritmo que funge como un clasificador binario. Es decir una función que mapea una entrada y asigna una posible etiqueta.\n",
        "\n",
        "La fórmula del perceptrón simple con dos entradas es:\n",
        "\n",
        "$$f(x_1,x_2,\\dots,x_m) = \\begin{cases}\n",
        "0 & \\text{if } \\sum w_i \\cdot x_i + b < 0 \\\\\n",
        "1 & \\text{if } \\sum w_i \\cdot x_i + b \\geq 0\n",
        "\\end{cases}$$\n",
        "\n",
        "En este ejercicio se debe determinar por prueba y error los pesos y bias que conviertan al perceptron en una funcion AND."
      ],
      "metadata": {
        "id": "81ukpocmL8Av"
      }
    },
    {
      "cell_type": "code",
      "execution_count": 1,
      "metadata": {
        "id": "gDiT7ynFL6xF"
      },
      "outputs": [],
      "source": [
        "#importamos paquetes\n",
        "import pandas as pd"
      ]
    },
    {
      "cell_type": "code",
      "source": [
        "# TODO: Establecer weight1, weight2, y bias\n",
        "\n",
        "weight1 = 1\n",
        "weight2 = 1\n",
        "bias = -1.5"
      ],
      "metadata": {
        "id": "aMX_IFrCOtgH"
      },
      "execution_count": 2,
      "outputs": []
    },
    {
      "cell_type": "code",
      "source": [
        "# ESTO DEBE QUEDAR IGUAL\n",
        "# Inputs, outputs\n",
        "test_inputs = [(0, 0), (0, 1), (1, 0), (1, 1)]\n",
        "correct_outputs = [False, False, False, True]\n",
        "outputs = []\n",
        "\n",
        "# Generar y revisar\n",
        "for test_input, correct_output in zip(test_inputs, correct_outputs):\n",
        "    linear_combination = weight1 * test_input[0] + weight2 * test_input[1] + bias\n",
        "    output = int(linear_combination >= 0)\n",
        "    is_correct_string = 'Yes' if output == correct_output else 'No'\n",
        "    outputs.append([test_input[0], test_input[1], linear_combination, output, is_correct_string])\n",
        "\n",
        "# Escribir resultados\n",
        "num_wrong = len([output[4] for output in outputs if output[4] == 'No'])\n",
        "output_frame = pd.DataFrame(outputs, columns=['Input 1', '  Input 2', '  Linear Combination', '  Activation Output', '  Is Correct'])\n",
        "if not num_wrong:\n",
        "    print('Bien!  Acertaste todas.\\n')\n",
        "else:\n",
        "    print('Obtuvieste {} mal.  Debes poner otros pesos!\\n'.format(num_wrong))\n",
        "print(output_frame.to_string(index=False))"
      ],
      "metadata": {
        "colab": {
          "base_uri": "https://localhost:8080/"
        },
        "id": "Cf-W6RVEWBKx",
        "outputId": "7baf00ec-b509-4a21-fef6-48c47e8ff898"
      },
      "execution_count": 3,
      "outputs": [
        {
          "output_type": "stream",
          "name": "stdout",
          "text": [
            "Bien!  Acertaste todas.\n",
            "\n",
            " Input 1    Input 2    Linear Combination    Activation Output   Is Correct\n",
            "       0          0                  -1.5                    0          Yes\n",
            "       0          1                  -0.5                    0          Yes\n",
            "       1          0                  -0.5                    0          Yes\n",
            "       1          1                   0.5                    1          Yes\n"
          ]
        }
      ]
    }
  ]
}
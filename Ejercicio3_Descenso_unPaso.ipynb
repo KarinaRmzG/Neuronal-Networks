{
  "cells": [
    {
      "cell_type": "markdown",
      "metadata": {
        "id": "view-in-github",
        "colab_type": "text"
      },
      "source": [
        "<a href=\"https://colab.research.google.com/github/KarinaRmzG/Neuronal-Networks/blob/main/Ejercicio3_Descenso_unPaso.ipynb\" target=\"_parent\"><img src=\"https://colab.research.google.com/assets/colab-badge.svg\" alt=\"Open In Colab\"/></a>"
      ]
    },
    {
      "cell_type": "markdown",
      "metadata": {
        "id": "3wBH0TcM_-GT"
      },
      "source": [
        "# Ejercicio 3: Descenso por gradiente\n",
        "\n",
        "En este notebook implementaremos un paso del método de descenso por gradiente. Este método nos sirve para encontrar los parámetros de la red de tal forma que la salida se asemeje a el valor objetivo.\n",
        "\n",
        "![gradiente](https://github.com/irvingvasquez/cv2course_intro_nn/blob/master/files/gradient_descent_1n_notebook.png?raw=1)\n",
        "\n"
      ]
    },
    {
      "cell_type": "code",
      "execution_count": 1,
      "metadata": {
        "id": "KaGIJDtb_-GV"
      },
      "outputs": [],
      "source": [
        "# importamos paquetes\n",
        "import numpy as np"
      ]
    },
    {
      "cell_type": "markdown",
      "metadata": {
        "id": "Zcb-W3o0_-GX"
      },
      "source": [
        "## Definimos la red neuronal"
      ]
    },
    {
      "cell_type": "code",
      "execution_count": 9,
      "metadata": {
        "id": "5n24ZdJT_-GX"
      },
      "outputs": [],
      "source": [
        "# función de activación\n",
        "def sigmoid(x):\n",
        "    return 1/(1+np.exp(-x))\n",
        "\n",
        "# Derivada de f\n",
        "def sigmoid_prime(x):\n",
        "    return sigmoid(x) * (1 - sigmoid(x))\n",
        "\n",
        "# función h lineal\n",
        "def function_h(X, W, b):\n",
        "    return np.dot(W, X) + b\n",
        "\n",
        "# Salida de la RN\n",
        "def output_y(X,W,b):\n",
        "    return sigmoid(function_h(X,W,b))"
      ]
    },
    {
      "cell_type": "markdown",
      "metadata": {
        "id": "qyRpnsC5_-GY"
      },
      "source": [
        "## Término de error\n",
        "\n",
        "Escribe una función que calcule el término de error\n",
        "\n",
        "$$\\delta= (y-\\hat{y})f' (h) = (y-\\hat{y})f' (\\sum_i w_i x_i)$$"
      ]
    },
    {
      "cell_type": "code",
      "execution_count": 3,
      "metadata": {
        "id": "d9Arm06v_-GY"
      },
      "outputs": [],
      "source": [
        "# Función para calcular el término de error\n",
        "def error_term(y, W, X, b):\n",
        "    \"\"\"\n",
        "    Calcula el término de error en el contexto de una red neuronal.\n",
        "\n",
        "    Parámetros:\n",
        "    y (float): El valor real de salida deseado.\n",
        "    W (array-like): Vector de pesos.\n",
        "    X (array-like): Vector de entradas.\n",
        "    b (float): Sesgo.\n",
        "\n",
        "    Retorna:\n",
        "    float: El término de error calculado.\n",
        "    \"\"\"\n",
        "    # Calcular el error entre el valor real y la salida predicha por la red neuronal\n",
        "    error = y - output_y(X, W, b)\n",
        "\n",
        "    # Calcular el término de error multiplicando el error por la derivada de la función sigmoide\n",
        "    delta = error * sigmoid_prime(function_h(X, W, b))\n",
        "\n",
        "    return delta\n"
      ]
    },
    {
      "cell_type": "markdown",
      "metadata": {
        "id": "sZCQw3-t_-GZ"
      },
      "source": [
        "## Incremento\n",
        "\n",
        "Escribe una función para determinar el incremento a uno de los pesos\n",
        "$$\\Delta w_i= \\eta \\delta x_i$$\n"
      ]
    },
    {
      "cell_type": "code",
      "execution_count": 14,
      "metadata": {
        "id": "WTxE8oBJ_-Ga"
      },
      "outputs": [],
      "source": [
        "# Función para calcular el término de error y el incremento\n",
        "def error_term_and_increment(y, W, X, b, eta, i):\n",
        "    \"\"\"\n",
        "    Calcula el término de error y el incremento necesario para actualizar un peso específico en el contexto de un algoritmo de entrenamiento.\n",
        "\n",
        "    Parámetros:\n",
        "    y (float): Valor real de salida deseado correspondiente al ejemplo de entrenamiento.\n",
        "    W (array-like): Vector de pesos actual.\n",
        "    X (array-like): Vector de entradas correspondientes a un ejemplo de entrenamiento.\n",
        "    b (float): Sesgo actual.\n",
        "    eta (float): Tasa de aprendizaje (learning rate).\n",
        "    i (int): Índice del peso que se desea actualizar.\n",
        "\n",
        "    Retorna:\n",
        "    tuple: Una tupla que contiene el término de error y el incremento necesario para actualizar el peso en la posición i.\n",
        "    \"\"\"\n",
        "    # Calcula la salida predicha por la red neuronal para el ejemplo de entrenamiento actual\n",
        "    y_pred = output_y(X, W, b)\n",
        "\n",
        "    # Calcula el término de error\n",
        "    error = y - y_pred\n",
        "\n",
        "    # Calcula el incremento multiplicando la tasa de aprendizaje, el término de error y la entrada correspondiente\n",
        "    incremento = eta * error * X[i]\n",
        "\n",
        "    return error, incremento"
      ]
    },
    {
      "cell_type": "markdown",
      "metadata": {
        "id": "pfujq2PV_-Ga"
      },
      "source": [
        "## Verificar funcionamiento\n",
        "\n",
        "A continuación implementemos una red de ejemplo y verificaremos que está funcionando almenos un paso del método de descenso por gradiente."
      ]
    },
    {
      "cell_type": "code",
      "execution_count": 15,
      "metadata": {
        "id": "x_x9hLE6_-Ga"
      },
      "outputs": [],
      "source": [
        "# valores de ejemplo\n",
        "learning_rate = 0.1\n",
        "x = np.array([1,1])\n",
        "y = 5\n",
        "\n",
        "# Initial weights\n",
        "w = np.array([0.1,0.2])\n",
        "b = 0"
      ]
    },
    {
      "cell_type": "code",
      "execution_count": 16,
      "metadata": {
        "id": "Snm7L19G_-Gb",
        "colab": {
          "base_uri": "https://localhost:8080/"
        },
        "outputId": "a93df35a-e351-4ef2-de26-a28651c14c43"
      },
      "outputs": [
        {
          "output_type": "stream",
          "name": "stdout",
          "text": [
            "Salida: 0.574442516811659\n",
            "Error: 4.425557483188341\n",
            "Incremento: [0.10818643106305684, 0.10818643106305684]\n",
            "Nuevos pesos: [0.20818643 0.30818643]\n",
            "Nuevo error: 4.373700770233137\n"
          ]
        }
      ],
      "source": [
        "# Calcular la salida de la red\n",
        "salida = output_y(x, w, b)\n",
        "print('Salida:', salida)\n",
        "\n",
        "# Calcula el error residual de la red\n",
        "residual = y - salida\n",
        "print('Error:', residual)\n",
        "\n",
        "# Calcula el incremento de los pesos\n",
        "incremento = [increment(w, x, b, learning_rate, 0, y), increment(w, x, b, learning_rate, 1, y)]\n",
        "print('Incremento:', incremento)\n",
        "\n",
        "# Calcula el nuevo valor del los pesos\n",
        "n_w = w + incremento\n",
        "print('Nuevos pesos:', n_w)\n",
        "\n",
        "# Calcula el nuevo error\n",
        "n_error = y - output_y(x, n_w, b)\n",
        "print('Nuevo error:', n_error)"
      ]
    },
    {
      "cell_type": "markdown",
      "metadata": {
        "id": "acHwBf9f_-Gb"
      },
      "source": [
        "\n",
        "\n",
        "Si el nuevo error es menor que el primer error de la red entonces nuesto método de descenso está funcionando.\n",
        "\n",
        "\n",
        "\n",
        "\n",
        "\n"
      ]
    }
  ],
  "metadata": {
    "kernelspec": {
      "display_name": "Python 3",
      "language": "python",
      "name": "python3"
    },
    "language_info": {
      "codemirror_mode": {
        "name": "ipython",
        "version": 3
      },
      "file_extension": ".py",
      "mimetype": "text/x-python",
      "name": "python",
      "nbconvert_exporter": "python",
      "pygments_lexer": "ipython3",
      "version": "3.8.5"
    },
    "colab": {
      "provenance": [],
      "include_colab_link": true
    }
  },
  "nbformat": 4,
  "nbformat_minor": 0
}
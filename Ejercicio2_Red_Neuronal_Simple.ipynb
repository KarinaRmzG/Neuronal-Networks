{
  "nbformat": 4,
  "nbformat_minor": 0,
  "metadata": {
    "colab": {
      "provenance": [],
      "authorship_tag": "ABX9TyNK5VctvsZQui5PC1AGrs3x",
      "include_colab_link": true
    },
    "kernelspec": {
      "name": "python3",
      "display_name": "Python 3"
    },
    "language_info": {
      "name": "python"
    }
  },
  "cells": [
    {
      "cell_type": "markdown",
      "metadata": {
        "id": "view-in-github",
        "colab_type": "text"
      },
      "source": [
        "<a href=\"https://colab.research.google.com/github/KarinaRmzG/Ejercicios-IA/blob/main/Ejercicio2_Red_Neuronal_Simple.ipynb\" target=\"_parent\"><img src=\"https://colab.research.google.com/assets/colab-badge.svg\" alt=\"Open In Colab\"/></a>"
      ]
    },
    {
      "cell_type": "markdown",
      "source": [
        "#Ejercicio 2: Red Neuronal Simple\n",
        "En este notebook contiene el programa de una red neuronal simple (perceptron) utilizando numpy. El objetivo es que comprendamos el funcionamiento del perceptrón y que practiquemos la programación en Python. En la siguiente figura se encuentra una representación del perceptrón.\n",
        "\n"
      ],
      "metadata": {
        "id": "CarxBN4YbEsi"
      }
    },
    {
      "cell_type": "code",
      "source": [
        "# Cargamos paquetes\n",
        "import numpy as np"
      ],
      "metadata": {
        "id": "BRjD2AnwcDrY"
      },
      "execution_count": 1,
      "outputs": []
    },
    {
      "cell_type": "markdown",
      "source": [
        "## Calcular producto punto\n",
        "\n",
        "El primer paso es calcular el logit, *h*, a partir del producto punto. La fórmula explícita es la siguiente:\n",
        "\n",
        "$$ h = W X +b $$"
      ],
      "metadata": {
        "id": "gRe8u5etcGKf"
      }
    },
    {
      "cell_type": "code",
      "source": [
        "def function_h(X, W, b):\n",
        "    \"\"\"\n",
        "    Calcula la suma ponderada de las entradas utilizando pesos y sesgo.\n",
        "\n",
        "    Parámetros:\n",
        "    X (array-like): Una matriz de entradas.\n",
        "    W (array-like): Un vector de pesos que se utilizarán para ponderar las entradas.\n",
        "    b (float o array-like): Un valor escalar o un vector de sesgo.\n",
        "\n",
        "    Retorna:\n",
        "    suma (array-like): Una matriz que representa la suma ponderada de las entradas.\n",
        "\n",
        "    Ejemplo:\n",
        "    >>> X = np.array([[1, 2], [3, 4]])\n",
        "    >>> W = np.array([0.5, 0.2])\n",
        "    >>> b = 0.1\n",
        "    >>> resultado = function_h(X, W, b)\n",
        "    >>> print(resultado)\n",
        "    array([1.8, 2.9])\n",
        "    \"\"\"\n",
        "\n",
        "    # Calcular la suma ponderada de las entradas\n",
        "    suma = np.dot(X, W) + b\n",
        "\n",
        "    return suma"
      ],
      "metadata": {
        "id": "ZfzubNUKcNKQ"
      },
      "execution_count": 2,
      "outputs": []
    },
    {
      "cell_type": "markdown",
      "source": [
        "## Función de activación\n",
        "\n",
        "Para este ejemplo utilizaremos la función sigmoide como función de activación.\n",
        "\n",
        "$$ f(x) =  \\frac{\\mathrm{1} }{\\mathrm{1} + e^{-x} }  $$"
      ],
      "metadata": {
        "id": "ov3Bj_eXcQUI"
      }
    },
    {
      "cell_type": "code",
      "source": [
        "def sigmoid(x):\n",
        "    \"\"\"\n",
        "    Calcula la función sigmoide de una entrada.\n",
        "\n",
        "    La función sigmoide es una función matemática comúnmente utilizada en redes neuronales\n",
        "    para introducir no linealidad en la salida de una neurona.\n",
        "\n",
        "    Parámetros:\n",
        "    x (float o array-like): La entrada para la función sigmoide.\n",
        "\n",
        "    Retorna:\n",
        "    sg (float o array-like): El valor resultante después de aplicar la función sigmoide.\n",
        "\n",
        "    Ejemplo:\n",
        "    >>> x = 1.0\n",
        "    >>> resultado = sigmoid(x)\n",
        "    >>> print(resultado)\n",
        "    0.7310585786300049\n",
        "    \"\"\"\n",
        "    sg = 1 / (1 + np.exp(-x))\n",
        "    return sg"
      ],
      "metadata": {
        "id": "umm78vFXcTLO"
      },
      "execution_count": 5,
      "outputs": []
    },
    {
      "cell_type": "markdown",
      "source": [
        "## Probar la red\n",
        "\n",
        "Ahora definamos unos pesos y veamos el resultado de una pasada frontal (fordward pass)."
      ],
      "metadata": {
        "id": "XIA9mOXLcWAf"
      }
    },
    {
      "cell_type": "code",
      "source": [
        "# Definamos unos pesos y sesgo\n",
        "inputs = np.array([0.7, -0.3])\n",
        "weights = np.array([0.1, 0.8])\n",
        "bias = -0.1\n",
        "\n",
        "# Pasada frontal\n",
        "h = function_h(inputs,weights,bias)\n",
        "output = sigmoid(h)\n",
        "\n",
        "print('Output:')\n",
        "print(output)"
      ],
      "metadata": {
        "id": "2aapzw4PcYN3",
        "outputId": "9991d41a-8cf1-4660-c9de-615968aa3eb8",
        "colab": {
          "base_uri": "https://localhost:8080/"
        }
      },
      "execution_count": 6,
      "outputs": [
        {
          "output_type": "stream",
          "name": "stdout",
          "text": [
            "Output:\n",
            "0.4329070950345457\n"
          ]
        }
      ]
    },
    {
      "cell_type": "markdown",
      "source": [
        "## Pruebas extra\n",
        "\n",
        "- Define una función de activación de tipo escalón, \"heaviside\".  \n",
        "- ¿Cuáles son los pesos que definen una función OR?"
      ],
      "metadata": {
        "id": "1w_5aQmxcZn_"
      }
    },
    {
      "cell_type": "code",
      "source": [
        "def escalon(x):\n",
        "    \"\"\"\n",
        "    Implementa la función de activación de escalón.\n",
        "\n",
        "    La función de activación de escalón asigna 1 si la entrada es mayor o igual a cero\n",
        "    y asigna 0 en caso contrario. Es una función de activación simple utilizada en\n",
        "    algunas aplicaciones de redes neuronales.\n",
        "\n",
        "    Parámetros:\n",
        "    x (float o número entero): El valor de entrada a la función.\n",
        "\n",
        "    Retorna:\n",
        "    int: 1 si x es mayor o igual a cero, 0 en caso contrario.\n",
        "\n",
        "    Ejemplo:\n",
        "    >>> resultado = escalon(3)\n",
        "    >>> print(resultado)\n",
        "    1\n",
        "\n",
        "    >>> resultado = escalon(-2)\n",
        "    >>> print(resultado)\n",
        "    0\n",
        "    \"\"\"\n",
        "\n",
        "    if x >= 0:\n",
        "        return 1\n",
        "    else:\n",
        "        return 0"
      ],
      "metadata": {
        "id": "ZY7OwTcOcf_3"
      },
      "execution_count": 7,
      "outputs": []
    },
    {
      "cell_type": "code",
      "source": [
        "# TODO: Realizar el pase frontal y muesta los resultados que concuerdan con la función OR\n",
        "# Valores de entrada\n",
        "inputs = np.array([[0, 0], [0, 1], [1, 0], [1, 1]])\n",
        "\n",
        "# Pesos y sesgo para la operación OR\n",
        "weights = np.array([1, 1])  # Pesos iguales para ambas entradas\n",
        "bias = -0.5  # Sesgo"
      ],
      "metadata": {
        "id": "DMixq9YZcj3X"
      },
      "execution_count": 8,
      "outputs": []
    },
    {
      "cell_type": "code",
      "source": [
        "# Realizar el pase hacia adelante y aplicar la función escalón\n",
        "results = []\n",
        "\n",
        "for input_pair in inputs:\n",
        "    # Calcular la suma ponderada\n",
        "    weighted_sum = np.dot(input_pair, weights) + bias\n",
        "\n",
        "    # Aplicar la función escalón\n",
        "    output = escalon(weighted_sum)\n",
        "\n",
        "    # Almacenar el resultado\n",
        "    results.append(output)\n",
        "\n",
        "# Mostrar los resultados\n",
        "for i, input_pair in enumerate(inputs):\n",
        "    print(f'Entrada: {input_pair}, Salida: {results[i]}')"
      ],
      "metadata": {
        "id": "ObFXxNqw1x4b",
        "outputId": "872b1f5d-8821-4aea-9e17-a522a64009c4",
        "colab": {
          "base_uri": "https://localhost:8080/"
        }
      },
      "execution_count": 9,
      "outputs": [
        {
          "output_type": "stream",
          "name": "stdout",
          "text": [
            "Entrada: [0 0], Salida: 0\n",
            "Entrada: [0 1], Salida: 1\n",
            "Entrada: [1 0], Salida: 1\n",
            "Entrada: [1 1], Salida: 1\n"
          ]
        }
      ]
    }
  ]
}
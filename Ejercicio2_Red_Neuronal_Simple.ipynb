{
  "nbformat": 4,
  "nbformat_minor": 0,
  "metadata": {
    "colab": {
      "provenance": [],
      "authorship_tag": "ABX9TyO1wXO/7pyyhDYRDO8kG5Yi",
      "include_colab_link": true
    },
    "kernelspec": {
      "name": "python3",
      "display_name": "Python 3"
    },
    "language_info": {
      "name": "python"
    }
  },
  "cells": [
    {
      "cell_type": "markdown",
      "metadata": {
        "id": "view-in-github",
        "colab_type": "text"
      },
      "source": [
        "<a href=\"https://colab.research.google.com/github/KarinaRmzG/Ejercicios-IA/blob/main/Ejercicio2_Red_Neuronal_Simple.ipynb\" target=\"_parent\"><img src=\"https://colab.research.google.com/assets/colab-badge.svg\" alt=\"Open In Colab\"/></a>"
      ]
    },
    {
      "cell_type": "markdown",
      "source": [
        "#Ejercicio 2: Red Neuronal Simple\n",
        "En este notebook contiene el programa de una red neuronal simple (perceptron) utilizando numpy. El objetivo es que comprendamos el funcionamiento del perceptrón y que practiquemos la programación en Python. En la siguiente figura se encuentra una representación del perceptrón.\n",
        "\n"
      ],
      "metadata": {
        "id": "CarxBN4YbEsi"
      }
    },
    {
      "cell_type": "code",
      "source": [
        "# Cargamos paquetes\n",
        "import numpy as np"
      ],
      "metadata": {
        "id": "BRjD2AnwcDrY"
      },
      "execution_count": null,
      "outputs": []
    },
    {
      "cell_type": "markdown",
      "source": [
        "## Calcular producto punto\n",
        "\n",
        "El primer paso es calcular el logit, *h*, a partir del producto punto. La fórmula explícita es la siguiente:\n",
        "\n",
        "$$ h = W X +b $$"
      ],
      "metadata": {
        "id": "gRe8u5etcGKf"
      }
    },
    {
      "cell_type": "code",
      "source": [
        "# TODO: Implementar la función H\n",
        "\n",
        "def function_h(X, W, b):\n",
        "    suma = None\n",
        "    return suma"
      ],
      "metadata": {
        "id": "ZfzubNUKcNKQ"
      },
      "execution_count": null,
      "outputs": []
    },
    {
      "cell_type": "markdown",
      "source": [
        "## Función de activación\n",
        "\n",
        "Para este ejemplo utilizaremos la función sigmoide como función de activación.\n",
        "\n",
        "$$ f(x) =  \\frac{\\mathrm{1} }{\\mathrm{1} + e^{-x} }  $$"
      ],
      "metadata": {
        "id": "ov3Bj_eXcQUI"
      }
    },
    {
      "cell_type": "code",
      "source": [
        "# TODO: Implementar la función de activación.\n",
        "# En este ejemplo utilizaremos la función sigmoide.\n",
        "\n",
        "def sigmoid(x):\n",
        "    sg = None\n",
        "    return sg"
      ],
      "metadata": {
        "id": "umm78vFXcTLO"
      },
      "execution_count": null,
      "outputs": []
    },
    {
      "cell_type": "markdown",
      "source": [
        "## Probar la red\n",
        "\n",
        "Ahora definamos unos pesos y veamos el resultado de una pasada frontal (fordward pass)."
      ],
      "metadata": {
        "id": "XIA9mOXLcWAf"
      }
    },
    {
      "cell_type": "code",
      "source": [
        "# Definamos unos pesos y sesgo\n",
        "inputs = np.array([0.7, -0.3])\n",
        "weights = np.array([0.1, 0.8])\n",
        "bias = -0.1\n",
        "\n",
        "# Pasada frontal\n",
        "h = function_h(inputs,weights,bias)\n",
        "output = sigmoid(h)\n",
        "\n",
        "print('Output:')\n",
        "print(output)"
      ],
      "metadata": {
        "id": "2aapzw4PcYN3"
      },
      "execution_count": null,
      "outputs": []
    },
    {
      "cell_type": "markdown",
      "source": [
        "## Pruebas extra\n",
        "\n",
        "- Define una función de activación de tipo escalón, \"heaviside\".  \n",
        "- ¿Cuáles son los pesos que definen una función OR?"
      ],
      "metadata": {
        "id": "1w_5aQmxcZn_"
      }
    },
    {
      "cell_type": "code",
      "source": [
        "# TODO: Completar el código\n",
        "def escalon(x):\n",
        "    pass"
      ],
      "metadata": {
        "id": "ZY7OwTcOcf_3"
      },
      "execution_count": null,
      "outputs": []
    },
    {
      "cell_type": "code",
      "source": [
        "# TODO: Realizar el pase frontal y muesta los resultados que concuerdan con la función OR"
      ],
      "metadata": {
        "id": "DMixq9YZcj3X"
      },
      "execution_count": null,
      "outputs": []
    }
  ]
}